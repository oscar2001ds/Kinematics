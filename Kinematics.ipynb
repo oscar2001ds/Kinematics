{
  "nbformat": 4,
  "nbformat_minor": 0,
  "metadata": {
    "colab": {
      "name": "Kinematics.ipynb",
      "provenance": [],
      "collapsed_sections": [],
      "authorship_tag": "ABX9TyMj0Dl0IUoYuJ6PFk3oy/kc"
    },
    "kernelspec": {
      "name": "python3",
      "display_name": "Python 3"
    },
    "language_info": {
      "name": "python"
    }
  },
  "cells": [
    {
      "cell_type": "code",
      "metadata": {
        "colab": {
          "base_uri": "https://localhost:8080/"
        },
        "id": "T9L0luOaAc4y",
        "outputId": "288e9c96-8ffa-4c10-fc02-8e55b0820d16"
      },
      "source": [
        "import numpy as np\n",
        "import sympy as sp\n",
        "import matplotlib.pyplot as plt\n",
        "import math as m\n",
        "\n",
        "alpha, a, tetha, d = sp.symbols(\"α_i-1, a_i-1, θ_i, d_i\") \n",
        "#print(alpha,a,tetha,d)\n",
        "\n",
        "TREF=sp.Matrix([[sp.cos(tetha), -sp.sin(tetha), 0, a], [sp.sin(tetha)*sp.cos(alpha), sp.cos(tetha)*sp.cos(alpha), -sp.sin(alpha), -sp.sin(alpha)*d], [sp.sin(tetha)*sp.sin(alpha), sp.cos(tetha)*sp.sin(alpha), sp.cos(alpha), sp.cos(alpha)*d], [0, 0, 0, 1]])\n",
        "print(alpha, a, tetha, d)\n"
      ],
      "execution_count": null,
      "outputs": [
        {
          "output_type": "stream",
          "name": "stdout",
          "text": [
            "α_i-1 a_i-1 θ_i d_i\n"
          ]
        }
      ]
    },
    {
      "cell_type": "code",
      "metadata": {
        "colab": {
          "base_uri": "https://localhost:8080/",
          "height": 132
        },
        "id": "i-YKbNVzLwzQ",
        "outputId": "97bdb58f-b2e0-446f-c2b9-88a3b6091b8d"
      },
      "source": [
        "# sp.symbols(\"--\")\n",
        "# θ_i\n",
        "\n",
        "v1alpha, v1a, v1tetha, v1d=0,0,sp.symbols(\"θ_1\"),0\n",
        "v2alpha, v2a, v2tetha, v2d=-90,0,sp.symbols(\"θ_2\"),sp.symbols(\"d_2\")\n",
        "v3alpha, v3a, v3tetha, v3d=0,sp.symbols(\"a_2\"),sp.symbols(\"θ_3\"),sp.symbols(\"d_3\")\n",
        "v4alpha, v4a, v4tetha, v4d=-90,sp.symbols(\"a_3\"),sp.symbols(\"θ_4\"),sp.symbols(\"d_4\")\n",
        "v5alpha, v5a, v5tetha, v5d=90,0,sp.symbols(\"θ_5\"),0\n",
        "v6alpha, v6a, v6tetha, v6d=-90,0,sp.symbols(\"θ_6\"),0\n",
        "\n",
        "\n",
        "\n",
        "T1=sp.Matrix([[sp.cos(v1tetha), -sp.sin(v1tetha), 0, v1a], [sp.sin(v1tetha)*sp.cos(v1alpha), sp.cos(v1tetha)*sp.cos(v1alpha), -sp.sin(v1alpha), -sp.sin(v1alpha)*v1d], [sp.sin(v1tetha)*sp.sin(v1alpha), sp.cos(v1tetha)*sp.sin(v1alpha), sp.cos(v1alpha), sp.cos(v1alpha)*v1d], [0, 0, 0, 1]])\n",
        "T2=sp.Matrix([[sp.cos(v2tetha), -sp.sin(v2tetha), 0, v2a], [sp.sin(v2tetha)*sp.cos(v2alpha), sp.cos(v2tetha)*sp.cos(v2alpha), -sp.sin(v2alpha), -sp.sin(v2alpha)*v2d], [sp.sin(v2tetha)*sp.sin(v2alpha), sp.cos(v2tetha)*sp.sin(v2alpha), sp.cos(v2alpha), sp.cos(v2alpha)*v2d], [0, 0, 0, 1]])\n",
        "T3=sp.Matrix([[sp.cos(v3tetha), -sp.sin(v3tetha), 0, v3a], [sp.sin(v3tetha)*sp.cos(v3alpha), sp.cos(v3tetha)*sp.cos(v3alpha), -sp.sin(v3alpha), -sp.sin(v3alpha)*v3d], [sp.sin(v3tetha)*sp.sin(v3alpha), sp.cos(v3tetha)*sp.sin(v3alpha), sp.cos(v3alpha), sp.cos(v3alpha)*v3d], [0, 0, 0, 1]])\n",
        "T4=sp.Matrix([[sp.cos(v4tetha), -sp.sin(v4tetha), 0, v4a], [sp.sin(v4tetha)*sp.cos(v4alpha), sp.cos(v4tetha)*sp.cos(v4alpha), -sp.sin(v4alpha), -sp.sin(v4alpha)*v4d], [sp.sin(v4tetha)*sp.sin(v4alpha), sp.cos(v4tetha)*sp.sin(v4alpha), sp.cos(v4alpha), sp.cos(v4alpha)*v4d], [0, 0, 0, 1]])\n",
        "T5=sp.Matrix([[sp.cos(v5tetha), -sp.sin(v5tetha), 0, v5a], [sp.sin(v5tetha)*sp.cos(v5alpha), sp.cos(v5tetha)*sp.cos(v5alpha), -sp.sin(v5alpha), -sp.sin(v5alpha)*v5d], [sp.sin(v5tetha)*sp.sin(v5alpha), sp.cos(v5tetha)*sp.sin(v5alpha), sp.cos(v5alpha), sp.cos(v5alpha)*v5d], [0, 0, 0, 1]])\n",
        "T6=sp.Matrix([[sp.cos(v6tetha), -sp.sin(v6tetha), 0, v6a], [sp.sin(v6tetha)*sp.cos(v6alpha), sp.cos(v6tetha)*sp.cos(v6alpha), -sp.sin(v6alpha), -sp.sin(v6alpha)*v6d], [sp.sin(v6tetha)*sp.sin(v6alpha), sp.cos(v6tetha)*sp.sin(v6alpha), sp.cos(v6alpha), sp.cos(v6alpha)*v6d], [0, 0, 0, 1]])\n",
        "\n",
        "print(\"sin(90)=1 | cos(90)=0\")\n",
        "print()\n",
        "TREF"
      ],
      "execution_count": null,
      "outputs": [
        {
          "output_type": "stream",
          "name": "stdout",
          "text": [
            "sin(90)=1 | cos(90)=0\n",
            "\n"
          ]
        },
        {
          "output_type": "execute_result",
          "data": {
            "text/latex": "$\\displaystyle \\left[\\begin{matrix}\\cos{\\left(θ_{i} \\right)} & - \\sin{\\left(θ_{i} \\right)} & 0 & a_{i-1}\\\\\\sin{\\left(θ_{i} \\right)} \\cos{\\left(α_{i-1} \\right)} & \\cos{\\left(α_{i-1} \\right)} \\cos{\\left(θ_{i} \\right)} & - \\sin{\\left(α_{i-1} \\right)} & - d_{i} \\sin{\\left(α_{i-1} \\right)}\\\\\\sin{\\left(α_{i-1} \\right)} \\sin{\\left(θ_{i} \\right)} & \\sin{\\left(α_{i-1} \\right)} \\cos{\\left(θ_{i} \\right)} & \\cos{\\left(α_{i-1} \\right)} & d_{i} \\cos{\\left(α_{i-1} \\right)}\\\\0 & 0 & 0 & 1\\end{matrix}\\right]$",
            "text/plain": [
              "Matrix([\n",
              "[           cos(θ_i),           -sin(θ_i),           0,           a_i-1],\n",
              "[sin(θ_i)*cos(α_i-1), cos(α_i-1)*cos(θ_i), -sin(α_i-1), -d_i*sin(α_i-1)],\n",
              "[sin(α_i-1)*sin(θ_i), sin(α_i-1)*cos(θ_i),  cos(α_i-1),  d_i*cos(α_i-1)],\n",
              "[                  0,                   0,           0,               1]])"
            ]
          },
          "metadata": {},
          "execution_count": 5
        }
      ]
    },
    {
      "cell_type": "code",
      "metadata": {
        "colab": {
          "base_uri": "https://localhost:8080/",
          "height": 132
        },
        "id": "N96pV2Kmim5b",
        "outputId": "38de40dd-6787-41c1-f0a7-523780373004"
      },
      "source": [
        "for F in [T1,T2,T3,T4,T5,T6]:\n",
        "  for i in [0,1,2,3]:\n",
        "    for b in[0,1,2,3]:\n",
        "      if F[i,b] == sp.cos(90):\n",
        "        F[i,b]=0\n",
        "      if F[i,b] == -sp.cos(90):\n",
        "        F[i,b]=0\n",
        "      if F[i,b] == sp.sin(90):\n",
        "        F[i,b]=1\n",
        "      if F[i,b] == -sp.sin(90):\n",
        "        F[i,b]=-1\n",
        " \n",
        "T6_1=T1*T2*T3*T4*T5*T6\n",
        "print(\"sin(90)=1 | cos(90)=0\")\n",
        "print()\n",
        "T1"
      ],
      "execution_count": null,
      "outputs": [
        {
          "output_type": "stream",
          "name": "stdout",
          "text": [
            "sin(90)=1 | cos(90)=0\n",
            "\n"
          ]
        },
        {
          "output_type": "execute_result",
          "data": {
            "text/latex": "$\\displaystyle \\left[\\begin{matrix}\\cos{\\left(θ_{1} \\right)} & - \\sin{\\left(θ_{1} \\right)} & 0 & 0\\\\\\sin{\\left(θ_{1} \\right)} & \\cos{\\left(θ_{1} \\right)} & 0 & 0\\\\0 & 0 & 1 & 0\\\\0 & 0 & 0 & 1\\end{matrix}\\right]$",
            "text/plain": [
              "Matrix([\n",
              "[cos(θ_1), -sin(θ_1), 0, 0],\n",
              "[sin(θ_1),  cos(θ_1), 0, 0],\n",
              "[       0,         0, 1, 0],\n",
              "[       0,         0, 0, 1]])"
            ]
          },
          "metadata": {},
          "execution_count": 7
        }
      ]
    },
    {
      "cell_type": "code",
      "metadata": {
        "colab": {
          "base_uri": "https://localhost:8080/",
          "height": 99
        },
        "id": "PWIOuAHzgl8n",
        "outputId": "f4ae0341-dbb2-4424-b66c-fe790947b206"
      },
      "source": [
        "T2"
      ],
      "execution_count": null,
      "outputs": [
        {
          "output_type": "execute_result",
          "data": {
            "text/latex": "$\\displaystyle \\left[\\begin{matrix}\\cos{\\left(θ_{2} \\right)} & - \\sin{\\left(θ_{2} \\right)} & 0 & 0\\\\\\sin{\\left(θ_{2} \\right)} \\cos{\\left(90 \\right)} & \\cos{\\left(90 \\right)} \\cos{\\left(θ_{2} \\right)} & 1 & d_{2} \\sin{\\left(90 \\right)}\\\\- \\sin{\\left(90 \\right)} \\sin{\\left(θ_{2} \\right)} & - \\sin{\\left(90 \\right)} \\cos{\\left(θ_{2} \\right)} & 0 & d_{2} \\cos{\\left(90 \\right)}\\\\0 & 0 & 0 & 1\\end{matrix}\\right]$",
            "text/plain": [
              "Matrix([\n",
              "[         cos(θ_2),         -sin(θ_2), 0,           0],\n",
              "[ sin(θ_2)*cos(90),  cos(90)*cos(θ_2), 1, d_2*sin(90)],\n",
              "[-sin(90)*sin(θ_2), -sin(90)*cos(θ_2), 0, d_2*cos(90)],\n",
              "[                0,                 0, 0,           1]])"
            ]
          },
          "metadata": {},
          "execution_count": 8
        }
      ]
    },
    {
      "cell_type": "code",
      "metadata": {
        "colab": {
          "base_uri": "https://localhost:8080/",
          "height": 99
        },
        "id": "q9x1ng06gnvx",
        "outputId": "ca29a5b6-5c27-4c1d-dfc6-d655578c954c"
      },
      "source": [
        "T3"
      ],
      "execution_count": null,
      "outputs": [
        {
          "output_type": "execute_result",
          "data": {
            "text/latex": "$\\displaystyle \\left[\\begin{matrix}\\cos{\\left(θ_{3} \\right)} & - \\sin{\\left(θ_{3} \\right)} & 0 & a_{2}\\\\\\sin{\\left(θ_{3} \\right)} & \\cos{\\left(θ_{3} \\right)} & 0 & 0\\\\0 & 0 & 1 & d_{3}\\\\0 & 0 & 0 & 1\\end{matrix}\\right]$",
            "text/plain": [
              "Matrix([\n",
              "[cos(θ_3), -sin(θ_3), 0, a_2],\n",
              "[sin(θ_3),  cos(θ_3), 0,   0],\n",
              "[       0,         0, 1, d_3],\n",
              "[       0,         0, 0,   1]])"
            ]
          },
          "metadata": {},
          "execution_count": 9
        }
      ]
    },
    {
      "cell_type": "code",
      "metadata": {
        "colab": {
          "base_uri": "https://localhost:8080/",
          "height": 98
        },
        "id": "FbzqzR5Ogoep",
        "outputId": "410e36a2-7b81-4cfa-e690-cc11226bf3a5"
      },
      "source": [
        "T4"
      ],
      "execution_count": null,
      "outputs": [
        {
          "output_type": "execute_result",
          "data": {
            "text/latex": "$\\displaystyle \\left[\\begin{matrix}\\cos{\\left(θ_{4} \\right)} & - \\sin{\\left(θ_{4} \\right)} & 0 & a_{3}\\\\\\sin{\\left(θ_{4} \\right)} \\cos{\\left(90 \\right)} & \\cos{\\left(90 \\right)} \\cos{\\left(θ_{4} \\right)} & 1 & d_{4} \\sin{\\left(90 \\right)}\\\\- \\sin{\\left(90 \\right)} \\sin{\\left(θ_{4} \\right)} & - \\sin{\\left(90 \\right)} \\cos{\\left(θ_{4} \\right)} & 0 & d_{4} \\cos{\\left(90 \\right)}\\\\0 & 0 & 0 & 1\\end{matrix}\\right]$",
            "text/plain": [
              "Matrix([\n",
              "[         cos(θ_4),         -sin(θ_4), 0,         a_3],\n",
              "[ sin(θ_4)*cos(90),  cos(90)*cos(θ_4), 1, d_4*sin(90)],\n",
              "[-sin(90)*sin(θ_4), -sin(90)*cos(θ_4), 0, d_4*cos(90)],\n",
              "[                0,                 0, 0,           1]])"
            ]
          },
          "metadata": {},
          "execution_count": 10
        }
      ]
    },
    {
      "cell_type": "code",
      "metadata": {
        "colab": {
          "base_uri": "https://localhost:8080/",
          "height": 98
        },
        "id": "ULt0SAq0gpQI",
        "outputId": "77b46ae3-785d-4de6-a0e3-4ad9157b3f5c"
      },
      "source": [
        "T5"
      ],
      "execution_count": null,
      "outputs": [
        {
          "output_type": "execute_result",
          "data": {
            "text/latex": "$\\displaystyle \\left[\\begin{matrix}\\cos{\\left(θ_{5} \\right)} & - \\sin{\\left(θ_{5} \\right)} & 0 & 0\\\\\\sin{\\left(θ_{5} \\right)} \\cos{\\left(90 \\right)} & \\cos{\\left(90 \\right)} \\cos{\\left(θ_{5} \\right)} & -1 & 0\\\\\\sin{\\left(90 \\right)} \\sin{\\left(θ_{5} \\right)} & \\sin{\\left(90 \\right)} \\cos{\\left(θ_{5} \\right)} & 0 & 0\\\\0 & 0 & 0 & 1\\end{matrix}\\right]$",
            "text/plain": [
              "Matrix([\n",
              "[        cos(θ_5),        -sin(θ_5),  0, 0],\n",
              "[sin(θ_5)*cos(90), cos(90)*cos(θ_5), -1, 0],\n",
              "[sin(90)*sin(θ_5), sin(90)*cos(θ_5),  0, 0],\n",
              "[               0,                0,  0, 1]])"
            ]
          },
          "metadata": {},
          "execution_count": 11
        }
      ]
    },
    {
      "cell_type": "code",
      "metadata": {
        "colab": {
          "base_uri": "https://localhost:8080/",
          "height": 98
        },
        "id": "3IYPxydMgqAF",
        "outputId": "9ac1bee3-3de2-4eda-c7d2-5d2e8210189b"
      },
      "source": [
        "T6"
      ],
      "execution_count": null,
      "outputs": [
        {
          "output_type": "execute_result",
          "data": {
            "text/latex": "$\\displaystyle \\left[\\begin{matrix}\\cos{\\left(θ_{6} \\right)} & - \\sin{\\left(θ_{6} \\right)} & 0 & 0\\\\\\sin{\\left(θ_{6} \\right)} \\cos{\\left(90 \\right)} & \\cos{\\left(90 \\right)} \\cos{\\left(θ_{6} \\right)} & 1 & 0\\\\- \\sin{\\left(90 \\right)} \\sin{\\left(θ_{6} \\right)} & - \\sin{\\left(90 \\right)} \\cos{\\left(θ_{6} \\right)} & 0 & 0\\\\0 & 0 & 0 & 1\\end{matrix}\\right]$",
            "text/plain": [
              "Matrix([\n",
              "[         cos(θ_6),         -sin(θ_6), 0, 0],\n",
              "[ sin(θ_6)*cos(90),  cos(90)*cos(θ_6), 1, 0],\n",
              "[-sin(90)*sin(θ_6), -sin(90)*cos(θ_6), 0, 0],\n",
              "[                0,                 0, 0, 1]])"
            ]
          },
          "metadata": {},
          "execution_count": 12
        }
      ]
    }
  ]
}